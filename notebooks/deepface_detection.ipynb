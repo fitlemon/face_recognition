{
 "cells": [
  {
   "cell_type": "code",
   "execution_count": 4,
   "metadata": {},
   "outputs": [
    {
     "data": {
      "text/plain": [
       "False"
      ]
     },
     "execution_count": 4,
     "metadata": {},
     "output_type": "execute_result"
    }
   ],
   "source": [
    "from deepface import DeepFace\n",
    "import cv2\n",
    "import scipy.io\n",
    "import numpy as np\n",
    "import pandas as pd\n",
    "import datetime\n",
    "import pickle\n",
    "from environs import Env\n",
    "\n",
    "env = Env()\n",
    "env.read_env('../.env', recurse=False)"
   ]
  },
  {
   "cell_type": "code",
   "execution_count": 2,
   "metadata": {},
   "outputs": [],
   "source": [
    "model = 'ArcFace'"
   ]
  },
  {
   "cell_type": "code",
   "execution_count": 11,
   "metadata": {},
   "outputs": [],
   "source": [
    "path_to_img = '../datasets/2002/07/19/big/img_18.jpg'\n",
    "embedding = DeepFace.extract_faces(path_to_img)\n",
    "x, y, w, h = embedding[0]['facial_area'].values()\n"
   ]
  },
  {
   "cell_type": "markdown",
   "metadata": {},
   "source": [
    "Drawing rectangle"
   ]
  },
  {
   "cell_type": "code",
   "execution_count": 10,
   "metadata": {},
   "outputs": [],
   "source": [
    "img = cv2.imread(path_to_img)\n",
    "# cv2.putText(img, name, (x1, y1 - 10), cv2.FONT_HERSHEY_DUPLEX, 1, (0, 0, 150), 2)\n",
    "cv2.rectangle(img, (x, y), (x+w, y+h), (0, 0, 200), 4)\n",
    "cv2.imshow('Img', img)\n",
    "cv2.waitKey(0)\n",
    "cv2.destroyAllWindows()"
   ]
  },
  {
   "cell_type": "code",
   "execution_count": 298,
   "metadata": {},
   "outputs": [],
   "source": [
    "path_to_mat = '../datasets/wiki/wiki.mat'\n",
    "mat = scipy.io.loadmat(path_to_mat)"
   ]
  },
  {
   "cell_type": "markdown",
   "metadata": {},
   "source": [
    "Сбор путей изображений:"
   ]
  },
  {
   "cell_type": "code",
   "execution_count": 299,
   "metadata": {},
   "outputs": [],
   "source": [
    "def get_paths(array: np.ndarray) -> list:\n",
    "    paths = []\n",
    "    if type(array) == np.ndarray:\n",
    "        for elem in array:\n",
    "            paths.extend(get_paths(elem))\n",
    "    else:\n",
    "        paths.append(array)\n",
    "    return paths"
   ]
  },
  {
   "cell_type": "code",
   "execution_count": 300,
   "metadata": {},
   "outputs": [],
   "source": [
    "columns = mat['wiki'][0].dtype.names"
   ]
  },
  {
   "cell_type": "code",
   "execution_count": 301,
   "metadata": {},
   "outputs": [],
   "source": [
    "names = mat['wiki'][0][0][4][0]\n",
    "names = np.array([x[0] if len(x) == 1 else '' for x in names])"
   ]
  },
  {
   "cell_type": "code",
   "execution_count": 302,
   "metadata": {},
   "outputs": [],
   "source": [
    "dobs = mat['wiki'][0][0][0][0]"
   ]
  },
  {
   "cell_type": "code",
   "execution_count": 303,
   "metadata": {},
   "outputs": [],
   "source": [
    "paths = mat['wiki'][0][0][2][0]\n",
    "paths = np.array([x[0] if len(x) == 1 else '' for x in paths])"
   ]
  },
  {
   "cell_type": "code",
   "execution_count": 304,
   "metadata": {},
   "outputs": [],
   "source": [
    "genders = mat['wiki'][0][0][3][0]"
   ]
  },
  {
   "cell_type": "code",
   "execution_count": 305,
   "metadata": {},
   "outputs": [],
   "source": [
    "face_locations = mat['wiki'][0][0][5][0]"
   ]
  },
  {
   "cell_type": "code",
   "execution_count": 306,
   "metadata": {},
   "outputs": [
    {
     "data": {
      "text/plain": [
       "('name', 'dob', 'gender', 'full_path', 'face_location')"
      ]
     },
     "execution_count": 306,
     "metadata": {},
     "output_type": "execute_result"
    }
   ],
   "source": [
    "columns = ('name', 'dob', 'gender', 'full_path', 'face_location')\n",
    "columns"
   ]
  },
  {
   "cell_type": "code",
   "execution_count": 307,
   "metadata": {},
   "outputs": [
    {
     "data": {
      "text/html": [
       "<div>\n",
       "<style scoped>\n",
       "    .dataframe tbody tr th:only-of-type {\n",
       "        vertical-align: middle;\n",
       "    }\n",
       "\n",
       "    .dataframe tbody tr th {\n",
       "        vertical-align: top;\n",
       "    }\n",
       "\n",
       "    .dataframe thead th {\n",
       "        text-align: right;\n",
       "    }\n",
       "</style>\n",
       "<table border=\"1\" class=\"dataframe\">\n",
       "  <thead>\n",
       "    <tr style=\"text-align: right;\">\n",
       "      <th></th>\n",
       "      <th>name</th>\n",
       "      <th>dob</th>\n",
       "      <th>gender</th>\n",
       "      <th>full_path</th>\n",
       "      <th>face_location</th>\n",
       "    </tr>\n",
       "  </thead>\n",
       "  <tbody>\n",
       "    <tr>\n",
       "      <th>0</th>\n",
       "      <td>Sami Jauhojärvi</td>\n",
       "      <td>723671</td>\n",
       "      <td>1.0</td>\n",
       "      <td>17/10000217_1981-05-05_2009.jpg</td>\n",
       "      <td>[[111.29109473290997, 111.29109473290997, 252....</td>\n",
       "    </tr>\n",
       "    <tr>\n",
       "      <th>1</th>\n",
       "      <td>Dettmar Cramer</td>\n",
       "      <td>703186</td>\n",
       "      <td>1.0</td>\n",
       "      <td>48/10000548_1925-04-04_1964.jpg</td>\n",
       "      <td>[[252.48330229530742, 126.68165114765371, 354....</td>\n",
       "    </tr>\n",
       "    <tr>\n",
       "      <th>2</th>\n",
       "      <td>Marc Okrand</td>\n",
       "      <td>711677</td>\n",
       "      <td>1.0</td>\n",
       "      <td>12/100012_1948-07-03_2008.jpg</td>\n",
       "      <td>[[113.52, 169.83999999999997, 366.08, 422.4]]</td>\n",
       "    </tr>\n",
       "    <tr>\n",
       "      <th>3</th>\n",
       "      <td>Aleksandar Matanović</td>\n",
       "      <td>705061</td>\n",
       "      <td>1.0</td>\n",
       "      <td>65/10001965_1930-05-23_1961.jpg</td>\n",
       "      <td>[[1, 1, 634, 440]]</td>\n",
       "    </tr>\n",
       "    <tr>\n",
       "      <th>4</th>\n",
       "      <td>Diana Damrau</td>\n",
       "      <td>720044</td>\n",
       "      <td>0.0</td>\n",
       "      <td>16/10002116_1971-05-31_2012.jpg</td>\n",
       "      <td>[[171.61031405173117, 75.57451239763239, 266.7...</td>\n",
       "    </tr>\n",
       "  </tbody>\n",
       "</table>\n",
       "</div>"
      ],
      "text/plain": [
       "                   name     dob  gender                        full_path  \\\n",
       "0       Sami Jauhojärvi  723671     1.0  17/10000217_1981-05-05_2009.jpg   \n",
       "1        Dettmar Cramer  703186     1.0  48/10000548_1925-04-04_1964.jpg   \n",
       "2           Marc Okrand  711677     1.0    12/100012_1948-07-03_2008.jpg   \n",
       "3  Aleksandar Matanović  705061     1.0  65/10001965_1930-05-23_1961.jpg   \n",
       "4          Diana Damrau  720044     0.0  16/10002116_1971-05-31_2012.jpg   \n",
       "\n",
       "                                       face_location  \n",
       "0  [[111.29109473290997, 111.29109473290997, 252....  \n",
       "1  [[252.48330229530742, 126.68165114765371, 354....  \n",
       "2      [[113.52, 169.83999999999997, 366.08, 422.4]]  \n",
       "3                                 [[1, 1, 634, 440]]  \n",
       "4  [[171.61031405173117, 75.57451239763239, 266.7...  "
      ]
     },
     "execution_count": 307,
     "metadata": {},
     "output_type": "execute_result"
    }
   ],
   "source": [
    "df = pd.DataFrame(list(zip(names, dobs, genders, paths, face_locations)), columns=columns)\n",
    "df.head()"
   ]
  },
  {
   "cell_type": "code",
   "execution_count": 329,
   "metadata": {},
   "outputs": [
    {
     "data": {
      "text/plain": [
       "104"
      ]
     },
     "execution_count": 329,
     "metadata": {},
     "output_type": "execute_result"
    }
   ],
   "source": [
    "sum(df['name'].value_counts() > 2)"
   ]
  },
  {
   "cell_type": "code",
   "execution_count": 315,
   "metadata": {},
   "outputs": [],
   "source": [
    "df.to_pickle('labels.pkl')"
   ]
  },
  {
   "cell_type": "code",
   "execution_count": 316,
   "metadata": {},
   "outputs": [
    {
     "data": {
      "text/html": [
       "<div>\n",
       "<style scoped>\n",
       "    .dataframe tbody tr th:only-of-type {\n",
       "        vertical-align: middle;\n",
       "    }\n",
       "\n",
       "    .dataframe tbody tr th {\n",
       "        vertical-align: top;\n",
       "    }\n",
       "\n",
       "    .dataframe thead th {\n",
       "        text-align: right;\n",
       "    }\n",
       "</style>\n",
       "<table border=\"1\" class=\"dataframe\">\n",
       "  <thead>\n",
       "    <tr style=\"text-align: right;\">\n",
       "      <th></th>\n",
       "      <th>name</th>\n",
       "      <th>dob</th>\n",
       "      <th>gender</th>\n",
       "      <th>full_path</th>\n",
       "      <th>face_location</th>\n",
       "    </tr>\n",
       "  </thead>\n",
       "  <tbody>\n",
       "    <tr>\n",
       "      <th>0</th>\n",
       "      <td>Sami Jauhojärvi</td>\n",
       "      <td>723671</td>\n",
       "      <td>1.0</td>\n",
       "      <td>17/10000217_1981-05-05_2009.jpg</td>\n",
       "      <td>[[111.29109473290997, 111.29109473290997, 252....</td>\n",
       "    </tr>\n",
       "    <tr>\n",
       "      <th>1</th>\n",
       "      <td>Dettmar Cramer</td>\n",
       "      <td>703186</td>\n",
       "      <td>1.0</td>\n",
       "      <td>48/10000548_1925-04-04_1964.jpg</td>\n",
       "      <td>[[252.48330229530742, 126.68165114765371, 354....</td>\n",
       "    </tr>\n",
       "    <tr>\n",
       "      <th>2</th>\n",
       "      <td>Marc Okrand</td>\n",
       "      <td>711677</td>\n",
       "      <td>1.0</td>\n",
       "      <td>12/100012_1948-07-03_2008.jpg</td>\n",
       "      <td>[[113.52, 169.83999999999997, 366.08, 422.4]]</td>\n",
       "    </tr>\n",
       "    <tr>\n",
       "      <th>3</th>\n",
       "      <td>Aleksandar Matanović</td>\n",
       "      <td>705061</td>\n",
       "      <td>1.0</td>\n",
       "      <td>65/10001965_1930-05-23_1961.jpg</td>\n",
       "      <td>[[1, 1, 634, 440]]</td>\n",
       "    </tr>\n",
       "    <tr>\n",
       "      <th>4</th>\n",
       "      <td>Diana Damrau</td>\n",
       "      <td>720044</td>\n",
       "      <td>0.0</td>\n",
       "      <td>16/10002116_1971-05-31_2012.jpg</td>\n",
       "      <td>[[171.61031405173117, 75.57451239763239, 266.7...</td>\n",
       "    </tr>\n",
       "    <tr>\n",
       "      <th>...</th>\n",
       "      <td>...</td>\n",
       "      <td>...</td>\n",
       "      <td>...</td>\n",
       "      <td>...</td>\n",
       "      <td>...</td>\n",
       "    </tr>\n",
       "    <tr>\n",
       "      <th>62323</th>\n",
       "      <td>Guus Haak</td>\n",
       "      <td>707582</td>\n",
       "      <td>1.0</td>\n",
       "      <td>49/9996949_1937-04-17_1963.jpg</td>\n",
       "      <td>[[128.92773553879837, 128.92773553879837, 320....</td>\n",
       "    </tr>\n",
       "    <tr>\n",
       "      <th>62324</th>\n",
       "      <td>Nico Rijnders</td>\n",
       "      <td>711338</td>\n",
       "      <td>1.0</td>\n",
       "      <td>32/9997032_1947-07-30_1970.jpg</td>\n",
       "      <td>[[1, 1, 285, 440]]</td>\n",
       "    </tr>\n",
       "    <tr>\n",
       "      <th>62325</th>\n",
       "      <td>Michael Wiesinger</td>\n",
       "      <td>720620</td>\n",
       "      <td>1.0</td>\n",
       "      <td>09/9998109_1972-12-27_2013.jpg</td>\n",
       "      <td>[[169.88839785556354, 74.31669471981023, 235.2...</td>\n",
       "    </tr>\n",
       "    <tr>\n",
       "      <th>62326</th>\n",
       "      <td>Johann Grugger</td>\n",
       "      <td>723893</td>\n",
       "      <td>1.0</td>\n",
       "      <td>00/9999400_1981-12-13_2011.jpg</td>\n",
       "      <td>[[1, 1, 1, 1]]</td>\n",
       "    </tr>\n",
       "    <tr>\n",
       "      <th>62327</th>\n",
       "      <td>Greta Van Susteren</td>\n",
       "      <td>713846</td>\n",
       "      <td>0.0</td>\n",
       "      <td>80/999980_1954-06-11_2008.jpg</td>\n",
       "      <td>[[92.72633234774001, 62.04355489849334, 230.12...</td>\n",
       "    </tr>\n",
       "  </tbody>\n",
       "</table>\n",
       "<p>62328 rows × 5 columns</p>\n",
       "</div>"
      ],
      "text/plain": [
       "                       name     dob  gender                        full_path  \\\n",
       "0           Sami Jauhojärvi  723671     1.0  17/10000217_1981-05-05_2009.jpg   \n",
       "1            Dettmar Cramer  703186     1.0  48/10000548_1925-04-04_1964.jpg   \n",
       "2               Marc Okrand  711677     1.0    12/100012_1948-07-03_2008.jpg   \n",
       "3      Aleksandar Matanović  705061     1.0  65/10001965_1930-05-23_1961.jpg   \n",
       "4              Diana Damrau  720044     0.0  16/10002116_1971-05-31_2012.jpg   \n",
       "...                     ...     ...     ...                              ...   \n",
       "62323             Guus Haak  707582     1.0   49/9996949_1937-04-17_1963.jpg   \n",
       "62324         Nico Rijnders  711338     1.0   32/9997032_1947-07-30_1970.jpg   \n",
       "62325     Michael Wiesinger  720620     1.0   09/9998109_1972-12-27_2013.jpg   \n",
       "62326        Johann Grugger  723893     1.0   00/9999400_1981-12-13_2011.jpg   \n",
       "62327    Greta Van Susteren  713846     0.0    80/999980_1954-06-11_2008.jpg   \n",
       "\n",
       "                                           face_location  \n",
       "0      [[111.29109473290997, 111.29109473290997, 252....  \n",
       "1      [[252.48330229530742, 126.68165114765371, 354....  \n",
       "2          [[113.52, 169.83999999999997, 366.08, 422.4]]  \n",
       "3                                     [[1, 1, 634, 440]]  \n",
       "4      [[171.61031405173117, 75.57451239763239, 266.7...  \n",
       "...                                                  ...  \n",
       "62323  [[128.92773553879837, 128.92773553879837, 320....  \n",
       "62324                                 [[1, 1, 285, 440]]  \n",
       "62325  [[169.88839785556354, 74.31669471981023, 235.2...  \n",
       "62326                                     [[1, 1, 1, 1]]  \n",
       "62327  [[92.72633234774001, 62.04355489849334, 230.12...  \n",
       "\n",
       "[62328 rows x 5 columns]"
      ]
     },
     "execution_count": 316,
     "metadata": {},
     "output_type": "execute_result"
    }
   ],
   "source": [
    "pd.read_pickle('labels.pkl')"
   ]
  }
 ],
 "metadata": {
  "kernelspec": {
   "display_name": ".venv",
   "language": "python",
   "name": "python3"
  },
  "language_info": {
   "codemirror_mode": {
    "name": "ipython",
    "version": 3
   },
   "file_extension": ".py",
   "mimetype": "text/x-python",
   "name": "python",
   "nbconvert_exporter": "python",
   "pygments_lexer": "ipython3",
   "version": "3.10.12"
  }
 },
 "nbformat": 4,
 "nbformat_minor": 2
}
