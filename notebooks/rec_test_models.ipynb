{
 "cells": [
  {
   "cell_type": "code",
   "execution_count": 2,
   "metadata": {},
   "outputs": [],
   "source": [
    "import pandas as pd\n",
    "from deepface import DeepFace\n",
    "from typing import List, Tuple\n",
    "import numpy as np\n",
    "import os\n",
    "import cv2"
   ]
  },
  {
   "cell_type": "markdown",
   "metadata": {},
   "source": [
    "#### Путь к датасету"
   ]
  },
  {
   "cell_type": "code",
   "execution_count": 3,
   "metadata": {},
   "outputs": [],
   "source": [
    "dataset_path = '../datasets/facescrub_images/'"
   ]
  },
  {
   "cell_type": "markdown",
   "metadata": {},
   "source": [
    "#### Функция для парсинга файлов-изображений"
   ]
  },
  {
   "cell_type": "code",
   "execution_count": 4,
   "metadata": {},
   "outputs": [],
   "source": [
    "def list_images(path):\n",
    "    \"\"\"Create default dict with img paths\"\"\"\n",
    "    imgs_list = []\n",
    "    for dir in os.listdir(path):\n",
    "        full_path = os.path.join(path, dir)\n",
    "        for img_name in os.listdir(full_path):\n",
    "            img_path = os.path.join(full_path, img_name)         \n",
    "            if img_path.endswith('.png') or img_path.endswith('.jpg') or img_path.endswith('.jpeg') :\n",
    "                imgs_list.append((img_path, dir, img_name))\n",
    "    return imgs_list"
   ]
  },
  {
   "cell_type": "markdown",
   "metadata": {},
   "source": [
    "#### Сохраним пути к изображениям в список"
   ]
  },
  {
   "cell_type": "code",
   "execution_count": 5,
   "metadata": {},
   "outputs": [],
   "source": [
    "imgs_list = list_images(dataset_path)"
   ]
  },
  {
   "cell_type": "markdown",
   "metadata": {},
   "source": [
    "#### Преобразуем список в датафрейм"
   ]
  },
  {
   "cell_type": "code",
   "execution_count": 6,
   "metadata": {},
   "outputs": [
    {
     "data": {
      "text/html": [
       "<div>\n",
       "<style scoped>\n",
       "    .dataframe tbody tr th:only-of-type {\n",
       "        vertical-align: middle;\n",
       "    }\n",
       "\n",
       "    .dataframe tbody tr th {\n",
       "        vertical-align: top;\n",
       "    }\n",
       "\n",
       "    .dataframe thead th {\n",
       "        text-align: right;\n",
       "    }\n",
       "</style>\n",
       "<table border=\"1\" class=\"dataframe\">\n",
       "  <thead>\n",
       "    <tr style=\"text-align: right;\">\n",
       "      <th></th>\n",
       "      <th>img_path</th>\n",
       "      <th>name</th>\n",
       "      <th>img_name</th>\n",
       "    </tr>\n",
       "  </thead>\n",
       "  <tbody>\n",
       "    <tr>\n",
       "      <th>0</th>\n",
       "      <td>../datasets/facescrub_images/Marilu_Henner/Mar...</td>\n",
       "      <td>Marilu_Henner</td>\n",
       "      <td>Marilu_Henner_34645.png</td>\n",
       "    </tr>\n",
       "    <tr>\n",
       "      <th>1</th>\n",
       "      <td>../datasets/facescrub_images/Marilu_Henner/Mar...</td>\n",
       "      <td>Marilu_Henner</td>\n",
       "      <td>Marilu_Henner_34540.png</td>\n",
       "    </tr>\n",
       "    <tr>\n",
       "      <th>2</th>\n",
       "      <td>../datasets/facescrub_images/Marilu_Henner/Mar...</td>\n",
       "      <td>Marilu_Henner</td>\n",
       "      <td>Marilu_Henner_34523.png</td>\n",
       "    </tr>\n",
       "    <tr>\n",
       "      <th>3</th>\n",
       "      <td>../datasets/facescrub_images/Marilu_Henner/Mar...</td>\n",
       "      <td>Marilu_Henner</td>\n",
       "      <td>Marilu_Henner_34537.png</td>\n",
       "    </tr>\n",
       "    <tr>\n",
       "      <th>4</th>\n",
       "      <td>../datasets/facescrub_images/Marilu_Henner/Mar...</td>\n",
       "      <td>Marilu_Henner</td>\n",
       "      <td>Marilu_Henner_34545.png</td>\n",
       "    </tr>\n",
       "  </tbody>\n",
       "</table>\n",
       "</div>"
      ],
      "text/plain": [
       "                                            img_path           name  \\\n",
       "0  ../datasets/facescrub_images/Marilu_Henner/Mar...  Marilu_Henner   \n",
       "1  ../datasets/facescrub_images/Marilu_Henner/Mar...  Marilu_Henner   \n",
       "2  ../datasets/facescrub_images/Marilu_Henner/Mar...  Marilu_Henner   \n",
       "3  ../datasets/facescrub_images/Marilu_Henner/Mar...  Marilu_Henner   \n",
       "4  ../datasets/facescrub_images/Marilu_Henner/Mar...  Marilu_Henner   \n",
       "\n",
       "                  img_name  \n",
       "0  Marilu_Henner_34645.png  \n",
       "1  Marilu_Henner_34540.png  \n",
       "2  Marilu_Henner_34523.png  \n",
       "3  Marilu_Henner_34537.png  \n",
       "4  Marilu_Henner_34545.png  "
      ]
     },
     "execution_count": 6,
     "metadata": {},
     "output_type": "execute_result"
    }
   ],
   "source": [
    "imgs_df = pd.DataFrame(imgs_list, columns=['img_path', 'name', 'img_name'])\n",
    "imgs_df.head()"
   ]
  },
  {
   "cell_type": "markdown",
   "metadata": {},
   "source": [
    "#### Посчитаем статистику датасета"
   ]
  },
  {
   "cell_type": "code",
   "execution_count": 7,
   "metadata": {},
   "outputs": [
    {
     "name": "stdout",
     "output_type": "stream",
     "text": [
      "Количество всего изображений: 3530\n",
      "Среднее количество изображений на одного человека: 44\n",
      "Минимальное количество изображений на одного человека: 27\n",
      "Максимальное количество изображений на одного человека: 50\n",
      "Количество уникальных людей: 80\n"
     ]
    }
   ],
   "source": [
    "grouped_df = imgs_df.groupby(['name'])['name'].agg('count')\n",
    "print(\"Количество всего изображений:\", imgs_df.shape[0])\n",
    "print(\"Среднее количество изображений на одного человека:\", int(grouped_df.mean()))\n",
    "print(\"Минимальное количество изображений на одного человека:\", int(grouped_df.min()))\n",
    "print(\"Максимальное количество изображений на одного человека:\", int(grouped_df.max()))\n",
    "print(\"Количество уникальных людей:\", int(grouped_df.shape[0]))"
   ]
  },
  {
   "cell_type": "markdown",
   "metadata": {},
   "source": [
    "#### Разделение датасета на две выборки: распологаемую в БД и тестовую"
   ]
  },
  {
   "cell_type": "code",
   "execution_count": 8,
   "metadata": {},
   "outputs": [],
   "source": [
    "def split_dataset(df: pd.DataFrame, db_count: int) -> Tuple[pd.DataFrame]:\n",
    "    \"\"\"Split init df to db and test dfs\n",
    "\n",
    "    Args:\n",
    "        df (pd.DataFrame): initial df\n",
    "        db_count (int): how many object per person should be in DB\n",
    "\n",
    "    Returns:\n",
    "        Tuple[pd.DataFrame]: db_df, test_df\n",
    "    \"\"\"    \n",
    "    imgs_db_df = df[df['obj_row'] <= db_count]\n",
    "    imgs_test_df = df[df['obj_row'] > db_count]\n",
    "    return imgs_db_df, imgs_test_df"
   ]
  },
  {
   "cell_type": "markdown",
   "metadata": {},
   "source": [
    "### Создание эмбеддингов изображений"
   ]
  },
  {
   "cell_type": "code",
   "execution_count": 9,
   "metadata": {},
   "outputs": [],
   "source": [
    "def get_emb_list_from_df(img_df: pd.DataFrame, embedding_model, backend_model) -> list:\n",
    "    emb_list = []\n",
    "    errors_list = []\n",
    "    for path, name, img_name, row in img_df.values:\n",
    "        try:\n",
    "            faces_obj = DeepFace.represent(path, model_name=embedding_model, detector_backend=backend_model)\n",
    "            embedding = np.array(faces_obj[0]['embedding'])\n",
    "            emb_list.append((name, img_name, path, embedding))\n",
    "        except:\n",
    "            #print(\"Can't detect face\", name, row)\n",
    "            errors_list.append((name, path, row))\n",
    "        \n",
    "    return emb_list, errors_list"
   ]
  },
  {
   "cell_type": "markdown",
   "metadata": {},
   "source": [
    "### Загружаем выборку в БД"
   ]
  },
  {
   "cell_type": "markdown",
   "metadata": {},
   "source": [
    "#### Количество измерений на выходе модели"
   ]
  },
  {
   "cell_type": "markdown",
   "metadata": {},
   "source": [
    "#### Создание таблицы"
   ]
  },
  {
   "cell_type": "code",
   "execution_count": 10,
   "metadata": {},
   "outputs": [],
   "source": [
    "def create_pg_connection():\n",
    "    env = Env()\n",
    "    env.read_env('../.env', recurse=False)\n",
    "    conn=pg.connect(\n",
    "        dbname='maska',\n",
    "        user='postgres',\n",
    "            password= env.str('PSQL_PASSWORD'),\n",
    "            host='localhost',\n",
    "            port='5432' )\n",
    "    cursor = conn.cursor()\n",
    "    return conn, cursor"
   ]
  },
  {
   "cell_type": "code",
   "execution_count": 11,
   "metadata": {},
   "outputs": [],
   "source": [
    "def create_table(vector_size, conn, cursor):\n",
    "    table_name='faces_test'\n",
    "    cursor.execute(f\"DROP TABLE IF EXISTS {table_name}\")\n",
    "    cursor.execute(f\"CREATE TABLE IF NOT EXISTS {table_name} (id bigserial PRIMARY KEY, name varchar(30), img_name varchar(50), img_path text, embedding vector({vector_size}))\")\n",
    "    conn.commit()"
   ]
  },
  {
   "cell_type": "markdown",
   "metadata": {},
   "source": [
    "#### Запись значений в БД"
   ]
  },
  {
   "cell_type": "code",
   "execution_count": 12,
   "metadata": {},
   "outputs": [],
   "source": [
    "def insert_values(embeddings, conn, cursor):\n",
    "    for name, img_name, path, embedding in embeddings:        \n",
    "        embedding = list(embedding)\n",
    "        cursor.execute(f\"INSERT INTO faces_test (name, img_name, img_path, embedding) VALUES (%s, %s, %s, %s)\", (name, img_name, path, embedding))\n",
    "        conn.commit()    "
   ]
  },
  {
   "cell_type": "markdown",
   "metadata": {},
   "source": [
    "#### Скопируем тестовые изображения и изображения находящтеся в БД в определенную папку"
   ]
  },
  {
   "cell_type": "markdown",
   "metadata": {},
   "source": [
    "Удалим старые изображения"
   ]
  },
  {
   "cell_type": "code",
   "execution_count": 13,
   "metadata": {},
   "outputs": [],
   "source": [
    "import shutil, os\n",
    "\n",
    "\n",
    "def del_dirs():\n",
    "    \n",
    "    test_folder = '../datasets/model_test/test'\n",
    "    database_folder = '../datasets/model_test/database'\n",
    "    def delete_dir_content(folder):\n",
    "        for filename in os.listdir(folder):\n",
    "            file_path = os.path.join(folder, filename)\n",
    "            try:\n",
    "                if os.path.isfile(file_path) or os.path.islink(file_path):\n",
    "                    os.unlink(file_path)\n",
    "                elif os.path.isdir(file_path):\n",
    "                    shutil.rmtree(file_path)\n",
    "            except Exception as e:\n",
    "                print('Failed to delete %s. Reason: %s' % (file_path, e))\n",
    "            \n",
    "    delete_dir_content(test_folder)\n",
    "    delete_dir_content(database_folder)"
   ]
  },
  {
   "cell_type": "code",
   "execution_count": 14,
   "metadata": {},
   "outputs": [],
   "source": [
    "def copy_imgs(db_df, test_df):\n",
    "    test_folder = '../datasets/model_test/test'\n",
    "    database_folder = '../datasets/model_test/database'\n",
    "    folders = ((test_folder, test_df), (database_folder, db_df))\n",
    "    for folder, df in folders:\n",
    "        images = [path for path, name, img_name, row in df.values]\n",
    "        for f in images:\n",
    "            shutil.copy(f, folder)"
   ]
  },
  {
   "cell_type": "markdown",
   "metadata": {},
   "source": [
    "## Предсказываем людей по тестовым фото, сравнивая фото с изображениями в БД"
   ]
  },
  {
   "cell_type": "markdown",
   "metadata": {},
   "source": [
    "Найдем в БД ближайшего человека"
   ]
  },
  {
   "cell_type": "code",
   "execution_count": 15,
   "metadata": {},
   "outputs": [],
   "source": [
    "def model_predict(test_embeddings, cursor):\n",
    "    predictions = []\n",
    "    for name, img_name, path, embedding  in test_embeddings:\n",
    "        embedding = list(embedding)\n",
    "        cursor.execute(f\"SELECT name FROM faces_test ORDER BY embedding <=> %s::vector LIMIT 1\", (embedding,))\n",
    "        predictions.extend(cursor.fetchone())\n",
    "    return predictions"
   ]
  },
  {
   "cell_type": "markdown",
   "metadata": {},
   "source": [
    "### Измерим качество предсказания"
   ]
  },
  {
   "cell_type": "code",
   "execution_count": 16,
   "metadata": {},
   "outputs": [],
   "source": [
    "def get_scores(predict_names, actual_names):\n",
    "    accuracy = 100*accuracy_score(actual_names, predict_names)\n",
    "    precision = 100*precision_score(actual_names, predict_names, average='weighted')\n",
    "    recall = 100*recall_score(actual_names, predict_names, average='weighted')\n",
    "    f1 = 100*f1_score(actual_names, predict_names, average='weighted')\n",
    "    scores = (accuracy, precision, recall, f1)\n",
    "    return scores"
   ]
  },
  {
   "cell_type": "code",
   "execution_count": 17,
   "metadata": {},
   "outputs": [
    {
     "name": "stdout",
     "output_type": "stream",
     "text": [
      "Model: ArcFace. DB_count: 3. Get embeddings from DB images: 240\n",
      "Model: ArcFace. DB_count: 3. Got embeddings. Can't detected 7 images\n",
      "Запись данных в БД\n",
      "Model: ArcFace.  DB_count: 3. Get embeddings from Test images: 3290\n",
      "Model: ArcFace. DB_count: 3. Got embeddings. Can't detected 180 images\n",
      "Model: VGG-Face. DB_count: 3. Get embeddings from DB images: 240\n",
      "Model: VGG-Face. DB_count: 3. Got embeddings. Can't detected 7 images\n",
      "Запись данных в БД\n",
      "Model: VGG-Face.  DB_count: 3. Get embeddings from Test images: 3290\n",
      "Model: VGG-Face. DB_count: 3. Got embeddings. Can't detected 180 images\n",
      "Model: DeepFace. DB_count: 3. Get embeddings from DB images: 240\n",
      "Model: DeepFace. DB_count: 3. Got embeddings. Can't detected 7 images\n",
      "Запись данных в БД\n",
      "Model: DeepFace.  DB_count: 3. Get embeddings from Test images: 3290\n",
      "Model: DeepFace. DB_count: 3. Got embeddings. Can't detected 180 images\n",
      "Model: SFace. DB_count: 3. Get embeddings from DB images: 240\n",
      "Model: SFace. DB_count: 3. Got embeddings. Can't detected 7 images\n",
      "Запись данных в БД\n",
      "Model: SFace.  DB_count: 3. Get embeddings from Test images: 3290\n",
      "Model: SFace. DB_count: 3. Got embeddings. Can't detected 180 images\n",
      "Model: FaceNet-512d. DB_count: 3. Get embeddings from DB images: 240\n",
      "Model: FaceNet-512d. DB_count: 3. Got embeddings. Can't detected 240 images\n",
      "Запись данных в БД\n",
      "Model: FaceNet-512d.  DB_count: 3. Get embeddings from Test images: 0\n",
      "Model: FaceNet-512d. DB_count: 3. Got embeddings. Can't detected 0 images\n",
      "Model: ArcFace. DB_count: 10. Get embeddings from DB images: 800\n",
      "Model: ArcFace. DB_count: 10. Got embeddings. Can't detected 46 images\n",
      "Запись данных в БД\n",
      "Model: ArcFace.  DB_count: 10. Get embeddings from Test images: 2730\n",
      "Model: ArcFace. DB_count: 10. Got embeddings. Can't detected 141 images\n",
      "Model: VGG-Face. DB_count: 10. Get embeddings from DB images: 800\n",
      "Model: VGG-Face. DB_count: 10. Got embeddings. Can't detected 46 images\n",
      "Запись данных в БД\n",
      "Model: VGG-Face.  DB_count: 10. Get embeddings from Test images: 2730\n",
      "Model: VGG-Face. DB_count: 10. Got embeddings. Can't detected 141 images\n",
      "Model: DeepFace. DB_count: 10. Get embeddings from DB images: 800\n",
      "Model: DeepFace. DB_count: 10. Got embeddings. Can't detected 46 images\n",
      "Запись данных в БД\n",
      "Model: DeepFace.  DB_count: 10. Get embeddings from Test images: 2730\n",
      "Model: DeepFace. DB_count: 10. Got embeddings. Can't detected 141 images\n",
      "Model: SFace. DB_count: 10. Get embeddings from DB images: 800\n",
      "Model: SFace. DB_count: 10. Got embeddings. Can't detected 46 images\n",
      "Запись данных в БД\n",
      "Model: SFace.  DB_count: 10. Get embeddings from Test images: 2730\n",
      "Model: SFace. DB_count: 10. Got embeddings. Can't detected 141 images\n",
      "Model: FaceNet-512d. DB_count: 10. Get embeddings from DB images: 800\n",
      "Model: FaceNet-512d. DB_count: 10. Got embeddings. Can't detected 800 images\n",
      "Запись данных в БД\n",
      "Model: FaceNet-512d.  DB_count: 10. Get embeddings from Test images: 0\n",
      "Model: FaceNet-512d. DB_count: 10. Got embeddings. Can't detected 0 images\n",
      "Model: ArcFace. DB_count: 25. Get embeddings from DB images: 2000\n",
      "Model: ArcFace. DB_count: 25. Got embeddings. Can't detected 109 images\n",
      "Запись данных в БД\n",
      "Model: ArcFace.  DB_count: 25. Get embeddings from Test images: 1530\n",
      "Model: ArcFace. DB_count: 25. Got embeddings. Can't detected 78 images\n",
      "Model: VGG-Face. DB_count: 25. Get embeddings from DB images: 2000\n",
      "Model: VGG-Face. DB_count: 25. Got embeddings. Can't detected 109 images\n",
      "Запись данных в БД\n",
      "Model: VGG-Face.  DB_count: 25. Get embeddings from Test images: 1530\n",
      "Model: VGG-Face. DB_count: 25. Got embeddings. Can't detected 78 images\n",
      "Model: DeepFace. DB_count: 25. Get embeddings from DB images: 2000\n",
      "Model: DeepFace. DB_count: 25. Got embeddings. Can't detected 109 images\n",
      "Запись данных в БД\n",
      "Model: DeepFace.  DB_count: 25. Get embeddings from Test images: 1530\n",
      "Model: DeepFace. DB_count: 25. Got embeddings. Can't detected 78 images\n",
      "Model: SFace. DB_count: 25. Get embeddings from DB images: 2000\n",
      "Model: SFace. DB_count: 25. Got embeddings. Can't detected 109 images\n",
      "Запись данных в БД\n",
      "Model: SFace.  DB_count: 25. Get embeddings from Test images: 1530\n",
      "Model: SFace. DB_count: 25. Got embeddings. Can't detected 78 images\n",
      "Model: FaceNet-512d. DB_count: 25. Get embeddings from DB images: 2000\n",
      "Model: FaceNet-512d. DB_count: 25. Got embeddings. Can't detected 2000 images\n",
      "Запись данных в БД\n",
      "Model: FaceNet-512d.  DB_count: 25. Get embeddings from Test images: 0\n",
      "Model: FaceNet-512d. DB_count: 25. Got embeddings. Can't detected 0 images\n"
     ]
    }
   ],
   "source": [
    "from collections import Counter\n",
    "from environs import Env\n",
    "import psycopg2 as pg\n",
    "\n",
    "from deepface import DeepFace\n",
    "from deepface.basemodels import ArcFace, VGGFace, FbDeepFace, SFace, Facenet\n",
    "from sklearn.metrics import accuracy_score, precision_score, recall_score, f1_score\n",
    "\n",
    "models = [ArcFace.ArcFaceClient().model_name, VGGFace.VggFaceClient().model_name, FbDeepFace.DeepFaceClient().model_name, SFace.SFaceClient().model_name, Facenet.FaceNet512dClient().model_name]\n",
    "\n",
    "\n",
    "\n",
    "def main():\n",
    "    model_scores = []\n",
    "    df = imgs_df.copy()\n",
    "    # numerize photos per person\n",
    "    df['obj_row'] = df.groupby(['name']).cumcount() + 1\n",
    "    db_counts = [3, 10, 25]\n",
    "    # list of model_names\n",
    "    models = [ArcFace.ArcFaceClient().model_name, VGGFace.VggFaceClient().model_name, FbDeepFace.DeepFaceClient().model_name, SFace.SFaceClient().model_name, Facenet.FaceNet512dClient().model_name]\n",
    "    # list of model vector sizes\n",
    "    model_size = [ArcFace.ArcFaceClient().output_shape, VGGFace.VggFaceClient().output_shape, FbDeepFace.DeepFaceClient().output_shape, SFace.SFaceClient().output_shape, Facenet.FaceNet512dClient().output_shape]\n",
    "    backend_model = 'opencv'\n",
    "    for count in db_counts:\n",
    "        # split images DF to DB and test sets\n",
    "        db_df, test_df = split_dataset(df, count)\n",
    "        for model, size in zip(models, model_size):\n",
    "            print(f\"Model: {model}. DB_count: {count}. Get embeddings from DB images: {db_df.shape[0]}\")\n",
    "            # get embeddings from DB set\n",
    "            imgs_db_embeddings, db_errors = get_emb_list_from_df(db_df, model, backend_model) \n",
    "            print(f\"Model: {model}. DB_count: {count}. Got embeddings. Can't detected {len(db_errors)} images\")\n",
    "            # find names of people which all photos can't recognized\n",
    "            names = [name for name, path, row in db_errors]\n",
    "            counts = Counter(names)\n",
    "            error_names = [name for name, err_count in counts.items() if err_count >= count]\n",
    "            if error_names:\n",
    "                test_df = test_df[~test_df['name'].isin(error_names)]\n",
    "            # create pg connection\n",
    "            conn, cursor = create_pg_connection()\n",
    "            create_table(size, conn, cursor)\n",
    "            print(\"Запись данных в БД\")\n",
    "            insert_values(imgs_db_embeddings, conn, cursor)\n",
    "            # del_dirs()\n",
    "            # copy_imgs(db_df, test_df)\n",
    "            print(f\"Model: {model}.  DB_count: {count}. Get embeddings from Test images: {test_df.shape[0]}\")\n",
    "            # get embeddings from Test set\n",
    "            test_embeddings, test_errors = get_emb_list_from_df(test_df, model, backend_model)\n",
    "            print(f\"Model: {model}. DB_count: {count}. Got embeddings. Can't detected {len(test_errors)} images\")\n",
    "            predict_names = model_predict(test_embeddings, cursor)            \n",
    "            actual_names = [name for name, img_name, path, embedding in test_embeddings]\n",
    "            scores = get_scores(predict_names, actual_names)\n",
    "            model_scores.append((model, size, count, db_df.shape[0], test_df.shape[0], len(db_errors), len(test_errors), *scores))\n",
    "            conn.close()\n",
    "    return model_scores\n",
    "            \n",
    "scores = main()   "
   ]
  },
  {
   "cell_type": "code",
   "execution_count": 21,
   "metadata": {},
   "outputs": [],
   "source": [
    "import pickle\n",
    "\n",
    "pickle.dump(scores, open(\"scores.pkl\", 'wb'))"
   ]
  },
  {
   "cell_type": "code",
   "execution_count": 24,
   "metadata": {},
   "outputs": [],
   "source": [
    "scores_df= pd.DataFrame(scores, columns=['model', 'vector_size', 'pic_in_db', 'db_img_count', 'test_img_count', 'errors_db', 'errors_test', 'accuracy', 'precision', 'recall', 'f1'])"
   ]
  },
  {
   "cell_type": "code",
   "execution_count": 26,
   "metadata": {},
   "outputs": [
    {
     "data": {
      "text/html": [
       "<div>\n",
       "<style scoped>\n",
       "    .dataframe tbody tr th:only-of-type {\n",
       "        vertical-align: middle;\n",
       "    }\n",
       "\n",
       "    .dataframe tbody tr th {\n",
       "        vertical-align: top;\n",
       "    }\n",
       "\n",
       "    .dataframe thead th {\n",
       "        text-align: right;\n",
       "    }\n",
       "</style>\n",
       "<table border=\"1\" class=\"dataframe\">\n",
       "  <thead>\n",
       "    <tr style=\"text-align: right;\">\n",
       "      <th></th>\n",
       "      <th>model</th>\n",
       "      <th>vector_size</th>\n",
       "      <th>pic_in_db</th>\n",
       "      <th>db_img_count</th>\n",
       "      <th>test_img_count</th>\n",
       "      <th>errors_db</th>\n",
       "      <th>errors_test</th>\n",
       "      <th>accuracy</th>\n",
       "      <th>precision</th>\n",
       "      <th>recall</th>\n",
       "      <th>f1</th>\n",
       "    </tr>\n",
       "  </thead>\n",
       "  <tbody>\n",
       "    <tr>\n",
       "      <th>0</th>\n",
       "      <td>ArcFace</td>\n",
       "      <td>512</td>\n",
       "      <td>3</td>\n",
       "      <td>240</td>\n",
       "      <td>3290</td>\n",
       "      <td>7</td>\n",
       "      <td>180</td>\n",
       "      <td>96.141479</td>\n",
       "      <td>96.389178</td>\n",
       "      <td>96.141479</td>\n",
       "      <td>96.116922</td>\n",
       "    </tr>\n",
       "    <tr>\n",
       "      <th>5</th>\n",
       "      <td>ArcFace</td>\n",
       "      <td>512</td>\n",
       "      <td>10</td>\n",
       "      <td>800</td>\n",
       "      <td>2730</td>\n",
       "      <td>46</td>\n",
       "      <td>141</td>\n",
       "      <td>97.759753</td>\n",
       "      <td>97.946562</td>\n",
       "      <td>97.759753</td>\n",
       "      <td>97.778140</td>\n",
       "    </tr>\n",
       "    <tr>\n",
       "      <th>10</th>\n",
       "      <td>ArcFace</td>\n",
       "      <td>512</td>\n",
       "      <td>25</td>\n",
       "      <td>2000</td>\n",
       "      <td>1530</td>\n",
       "      <td>109</td>\n",
       "      <td>78</td>\n",
       "      <td>98.829201</td>\n",
       "      <td>98.894727</td>\n",
       "      <td>98.829201</td>\n",
       "      <td>98.830753</td>\n",
       "    </tr>\n",
       "    <tr>\n",
       "      <th>2</th>\n",
       "      <td>DeepFace</td>\n",
       "      <td>4096</td>\n",
       "      <td>3</td>\n",
       "      <td>240</td>\n",
       "      <td>3290</td>\n",
       "      <td>7</td>\n",
       "      <td>180</td>\n",
       "      <td>21.929260</td>\n",
       "      <td>28.992771</td>\n",
       "      <td>21.929260</td>\n",
       "      <td>21.979505</td>\n",
       "    </tr>\n",
       "    <tr>\n",
       "      <th>7</th>\n",
       "      <td>DeepFace</td>\n",
       "      <td>4096</td>\n",
       "      <td>10</td>\n",
       "      <td>800</td>\n",
       "      <td>2730</td>\n",
       "      <td>46</td>\n",
       "      <td>141</td>\n",
       "      <td>36.384705</td>\n",
       "      <td>42.771245</td>\n",
       "      <td>36.384705</td>\n",
       "      <td>36.950189</td>\n",
       "    </tr>\n",
       "    <tr>\n",
       "      <th>12</th>\n",
       "      <td>DeepFace</td>\n",
       "      <td>4096</td>\n",
       "      <td>25</td>\n",
       "      <td>2000</td>\n",
       "      <td>1530</td>\n",
       "      <td>109</td>\n",
       "      <td>78</td>\n",
       "      <td>48.278237</td>\n",
       "      <td>53.428495</td>\n",
       "      <td>48.278237</td>\n",
       "      <td>48.971007</td>\n",
       "    </tr>\n",
       "    <tr>\n",
       "      <th>4</th>\n",
       "      <td>FaceNet-512d</td>\n",
       "      <td>512</td>\n",
       "      <td>3</td>\n",
       "      <td>240</td>\n",
       "      <td>0</td>\n",
       "      <td>240</td>\n",
       "      <td>0</td>\n",
       "      <td>NaN</td>\n",
       "      <td>NaN</td>\n",
       "      <td>NaN</td>\n",
       "      <td>NaN</td>\n",
       "    </tr>\n",
       "    <tr>\n",
       "      <th>9</th>\n",
       "      <td>FaceNet-512d</td>\n",
       "      <td>512</td>\n",
       "      <td>10</td>\n",
       "      <td>800</td>\n",
       "      <td>0</td>\n",
       "      <td>800</td>\n",
       "      <td>0</td>\n",
       "      <td>NaN</td>\n",
       "      <td>NaN</td>\n",
       "      <td>NaN</td>\n",
       "      <td>NaN</td>\n",
       "    </tr>\n",
       "    <tr>\n",
       "      <th>14</th>\n",
       "      <td>FaceNet-512d</td>\n",
       "      <td>512</td>\n",
       "      <td>25</td>\n",
       "      <td>2000</td>\n",
       "      <td>0</td>\n",
       "      <td>2000</td>\n",
       "      <td>0</td>\n",
       "      <td>NaN</td>\n",
       "      <td>NaN</td>\n",
       "      <td>NaN</td>\n",
       "      <td>NaN</td>\n",
       "    </tr>\n",
       "    <tr>\n",
       "      <th>3</th>\n",
       "      <td>SFace</td>\n",
       "      <td>128</td>\n",
       "      <td>3</td>\n",
       "      <td>240</td>\n",
       "      <td>3290</td>\n",
       "      <td>7</td>\n",
       "      <td>180</td>\n",
       "      <td>88.520900</td>\n",
       "      <td>89.529509</td>\n",
       "      <td>88.520900</td>\n",
       "      <td>88.459138</td>\n",
       "    </tr>\n",
       "    <tr>\n",
       "      <th>8</th>\n",
       "      <td>SFace</td>\n",
       "      <td>128</td>\n",
       "      <td>10</td>\n",
       "      <td>800</td>\n",
       "      <td>2730</td>\n",
       "      <td>46</td>\n",
       "      <td>141</td>\n",
       "      <td>94.360757</td>\n",
       "      <td>94.748492</td>\n",
       "      <td>94.360757</td>\n",
       "      <td>94.367689</td>\n",
       "    </tr>\n",
       "    <tr>\n",
       "      <th>13</th>\n",
       "      <td>SFace</td>\n",
       "      <td>128</td>\n",
       "      <td>25</td>\n",
       "      <td>2000</td>\n",
       "      <td>1530</td>\n",
       "      <td>109</td>\n",
       "      <td>78</td>\n",
       "      <td>96.074380</td>\n",
       "      <td>96.451341</td>\n",
       "      <td>96.074380</td>\n",
       "      <td>96.090156</td>\n",
       "    </tr>\n",
       "    <tr>\n",
       "      <th>1</th>\n",
       "      <td>VGG-Face</td>\n",
       "      <td>4096</td>\n",
       "      <td>3</td>\n",
       "      <td>240</td>\n",
       "      <td>3290</td>\n",
       "      <td>7</td>\n",
       "      <td>180</td>\n",
       "      <td>86.430868</td>\n",
       "      <td>87.048491</td>\n",
       "      <td>86.430868</td>\n",
       "      <td>86.265242</td>\n",
       "    </tr>\n",
       "    <tr>\n",
       "      <th>6</th>\n",
       "      <td>VGG-Face</td>\n",
       "      <td>4096</td>\n",
       "      <td>10</td>\n",
       "      <td>800</td>\n",
       "      <td>2730</td>\n",
       "      <td>46</td>\n",
       "      <td>141</td>\n",
       "      <td>91.270761</td>\n",
       "      <td>91.662140</td>\n",
       "      <td>91.270761</td>\n",
       "      <td>91.196902</td>\n",
       "    </tr>\n",
       "    <tr>\n",
       "      <th>11</th>\n",
       "      <td>VGG-Face</td>\n",
       "      <td>4096</td>\n",
       "      <td>25</td>\n",
       "      <td>2000</td>\n",
       "      <td>1530</td>\n",
       "      <td>109</td>\n",
       "      <td>78</td>\n",
       "      <td>95.179063</td>\n",
       "      <td>95.458419</td>\n",
       "      <td>95.179063</td>\n",
       "      <td>95.100204</td>\n",
       "    </tr>\n",
       "  </tbody>\n",
       "</table>\n",
       "</div>"
      ],
      "text/plain": [
       "           model  vector_size  pic_in_db  db_img_count  test_img_count  \\\n",
       "0        ArcFace          512          3           240            3290   \n",
       "5        ArcFace          512         10           800            2730   \n",
       "10       ArcFace          512         25          2000            1530   \n",
       "2       DeepFace         4096          3           240            3290   \n",
       "7       DeepFace         4096         10           800            2730   \n",
       "12      DeepFace         4096         25          2000            1530   \n",
       "4   FaceNet-512d          512          3           240               0   \n",
       "9   FaceNet-512d          512         10           800               0   \n",
       "14  FaceNet-512d          512         25          2000               0   \n",
       "3          SFace          128          3           240            3290   \n",
       "8          SFace          128         10           800            2730   \n",
       "13         SFace          128         25          2000            1530   \n",
       "1       VGG-Face         4096          3           240            3290   \n",
       "6       VGG-Face         4096         10           800            2730   \n",
       "11      VGG-Face         4096         25          2000            1530   \n",
       "\n",
       "    errors_db  errors_test   accuracy  precision     recall         f1  \n",
       "0           7          180  96.141479  96.389178  96.141479  96.116922  \n",
       "5          46          141  97.759753  97.946562  97.759753  97.778140  \n",
       "10        109           78  98.829201  98.894727  98.829201  98.830753  \n",
       "2           7          180  21.929260  28.992771  21.929260  21.979505  \n",
       "7          46          141  36.384705  42.771245  36.384705  36.950189  \n",
       "12        109           78  48.278237  53.428495  48.278237  48.971007  \n",
       "4         240            0        NaN        NaN        NaN        NaN  \n",
       "9         800            0        NaN        NaN        NaN        NaN  \n",
       "14       2000            0        NaN        NaN        NaN        NaN  \n",
       "3           7          180  88.520900  89.529509  88.520900  88.459138  \n",
       "8          46          141  94.360757  94.748492  94.360757  94.367689  \n",
       "13        109           78  96.074380  96.451341  96.074380  96.090156  \n",
       "1           7          180  86.430868  87.048491  86.430868  86.265242  \n",
       "6          46          141  91.270761  91.662140  91.270761  91.196902  \n",
       "11        109           78  95.179063  95.458419  95.179063  95.100204  "
      ]
     },
     "execution_count": 26,
     "metadata": {},
     "output_type": "execute_result"
    }
   ],
   "source": [
    "scores_df.sort_values(by='model')"
   ]
  },
  {
   "attachments": {
    "image.png": {
     "image/png": "[encoded data removed]"
    }
   },
   "cell_type": "markdown",
   "metadata": {},
   "source": [
    "![image.png](attachment:image.png)"
   ]
  },
  {
   "attachments": {
    "image.png": {
     "image/png": "[encoded data removed]"
    }
   },
   "cell_type": "markdown",
   "metadata": {},
   "source": [
    "![image.png](attachment:image.png)"
   ]
  }
 ],
 "metadata": {
  "kernelspec": {
   "display_name": ".venv",
   "language": "python",
   "name": "python3"
  },
  "language_info": {
   "codemirror_mode": {
    "name": "ipython",
    "version": 3
   },
   "file_extension": ".py",
   "mimetype": "text/x-python",
   "name": "python",
   "nbconvert_exporter": "python",
   "pygments_lexer": "ipython3",
   "version": "3.10.12"
  }
 },
 "nbformat": 4,
 "nbformat_minor": 2
}
